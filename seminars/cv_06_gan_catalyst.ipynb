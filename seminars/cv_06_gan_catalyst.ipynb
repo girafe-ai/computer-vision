{
 "cells": [
  {
   "cell_type": "markdown",
   "metadata": {
    "id": "CtYNPhQaoCT_"
   },
   "source": [
    "# Generative Models with Catalyst\n",
    "\n",
    "Today we are going to learn about generative models.\n",
    "\n",
    "We'll work with handwritten numbers, but we will generate with different models."
   ]
  },
  {
   "cell_type": "code",
   "execution_count": 1,
   "metadata": {
    "ExecuteTime": {
     "end_time": "2022-01-13T16:50:05.950335Z",
     "start_time": "2022-01-13T16:50:05.195427Z"
    },
    "id": "db7ZGBuvoIKw"
   },
   "outputs": [
    {
     "name": "stdout",
     "output_type": "stream",
     "text": [
      "Requirement already satisfied: catalyst==21.06 in /opt/miniconda3/envs/ml-mipt/lib/python3.8/site-packages (21.6)\n",
      "Requirement already satisfied: tensorboardX<2.3.0>=2.1.0 in /opt/miniconda3/envs/ml-mipt/lib/python3.8/site-packages (from catalyst==21.06) (2.2)\n",
      "Requirement already satisfied: numpy>=1.18 in /opt/miniconda3/envs/ml-mipt/lib/python3.8/site-packages (from catalyst==21.06) (1.20.2)\n",
      "Requirement already satisfied: tqdm>=4.33.0 in /opt/miniconda3/envs/ml-mipt/lib/python3.8/site-packages (from catalyst==21.06) (4.59.0)\n",
      "Requirement already satisfied: torch>=1.3.0 in /opt/miniconda3/envs/ml-mipt/lib/python3.8/site-packages (from catalyst==21.06) (1.8.1)\n",
      "Requirement already satisfied: PyYAML>=5.1 in /opt/miniconda3/envs/ml-mipt/lib/python3.8/site-packages (from catalyst==21.06) (6.0)\n",
      "Requirement already satisfied: protobuf>=3.8.0 in /opt/miniconda3/envs/ml-mipt/lib/python3.8/site-packages (from tensorboardX<2.3.0>=2.1.0->catalyst==21.06) (3.19.1)\n",
      "Requirement already satisfied: typing-extensions in /opt/miniconda3/envs/ml-mipt/lib/python3.8/site-packages (from torch>=1.3.0->catalyst==21.06) (3.7.4.3)\n"
     ]
    }
   ],
   "source": [
    "!pip install catalyst==21.06"
   ]
  },
  {
   "cell_type": "code",
   "execution_count": 4,
   "metadata": {
    "ExecuteTime": {
     "end_time": "2022-01-13T16:50:16.491621Z",
     "start_time": "2022-01-13T16:50:16.486255Z"
    }
   },
   "outputs": [
    {
     "data": {
      "text/plain": [
       "'21.06'"
      ]
     },
     "execution_count": 4,
     "metadata": {},
     "output_type": "execute_result"
    }
   ],
   "source": [
    "import catalyst\n",
    "\n",
    "\n",
    "catalyst.__version__"
   ]
  },
  {
   "cell_type": "code",
   "execution_count": 5,
   "metadata": {
    "ExecuteTime": {
     "end_time": "2022-01-13T16:50:17.537816Z",
     "start_time": "2022-01-13T16:50:17.422306Z"
    },
    "id": "h2qZ-FsboCT_"
   },
   "outputs": [],
   "source": [
    "from catalyst.utils import get_device, set_global_seed\n",
    "\n",
    "\n",
    "set_global_seed(42)\n",
    "device = get_device()"
   ]
  },
  {
   "cell_type": "markdown",
   "metadata": {
    "id": "cFBzcQWwoCT_"
   },
   "source": [
    "We'll work with `MNIST` dataset. Download it, show examples of the writting and prepare the dataset to be loaded into models."
   ]
  },
  {
   "cell_type": "code",
   "execution_count": 6,
   "metadata": {
    "ExecuteTime": {
     "end_time": "2022-01-13T16:50:18.633515Z",
     "start_time": "2022-01-13T16:50:18.607271Z"
    },
    "id": "wL8RED6koCUA"
   },
   "outputs": [],
   "source": [
    "from catalyst.contrib.datasets import mnist\n",
    "\n",
    "\n",
    "train = mnist.MNIST(\".\", train=True, download=True)\n",
    "valid = mnist.MNIST(\".\", train=False, download=True)"
   ]
  },
  {
   "cell_type": "code",
   "execution_count": 7,
   "metadata": {
    "ExecuteTime": {
     "end_time": "2022-01-13T16:50:19.222123Z",
     "start_time": "2022-01-13T16:50:19.214425Z"
    }
   },
   "outputs": [
    {
     "data": {
      "text/plain": [
       "(28, 28)"
      ]
     },
     "execution_count": 7,
     "metadata": {},
     "output_type": "execute_result"
    }
   ],
   "source": [
    "train[0][0].shape"
   ]
  },
  {
   "cell_type": "code",
   "execution_count": 8,
   "metadata": {
    "ExecuteTime": {
     "end_time": "2022-01-13T16:50:20.870662Z",
     "start_time": "2022-01-13T16:50:20.172019Z"
    },
    "id": "t_AYY5SzoCUA"
   },
   "outputs": [
    {
     "data": {
      "image/png": "[encoded data removed]",
      "text/plain": [
       "<Figure size 720x720 with 16 Axes>"
      ]
     },
     "metadata": {
      "needs_background": "light"
     },
     "output_type": "display_data"
    }
   ],
   "source": [
    "import matplotlib.pyplot as plt\n",
    "\n",
    "\n",
    "%matplotlib inline\n",
    "\n",
    "_, axs = plt.subplots(4, 4, figsize=(10, 10))\n",
    "\n",
    "for i in range(16):\n",
    "    axs[i // 4][i % 4].imshow(train[100 * i + i][0])\n",
    "plt.show()"
   ]
  },
  {
   "cell_type": "code",
   "execution_count": 9,
   "metadata": {
    "ExecuteTime": {
     "end_time": "2022-01-13T16:50:29.054442Z",
     "start_time": "2022-01-13T16:50:29.050742Z"
    },
    "id": "4zNLPpljoCUA"
   },
   "outputs": [],
   "source": [
    "import torch\n",
    "import torch.nn as nn"
   ]
  },
  {
   "cell_type": "code",
   "execution_count": 10,
   "metadata": {
    "ExecuteTime": {
     "end_time": "2022-01-13T16:50:30.618749Z",
     "start_time": "2022-01-13T16:50:30.614821Z"
    },
    "id": "qhSi2aedoCUA"
   },
   "outputs": [],
   "source": [
    "import typing as tp\n",
    "\n",
    "import numpy as np\n",
    "from catalyst.utils import get_loader\n",
    "\n",
    "\n",
    "batch_size = 1024\n",
    "num_workers = 4\n",
    "\n",
    "\n",
    "def transform(x: np.array) -> tp.Dict[str, torch.Tensor]:\n",
    "    image = torch.FloatTensor(x[\"image\"])\n",
    "    image = torch.where(image > 127, torch.ones(image.shape), torch.zeros(image.shape))\n",
    "    return {\"image\": image, \"targets\": x[\"targets\"]}\n",
    "\n",
    "\n",
    "train_data_loader = get_loader(\n",
    "    train,\n",
    "    open_fn=lambda x: {\"image\": x[0].reshape(1, 28, 28), \"targets\": x[1]},\n",
    "    dict_transform=transform,\n",
    "    batch_size=batch_size,\n",
    "    num_workers=num_workers,\n",
    "    shuffle=True,\n",
    "    sampler=None,\n",
    "    drop_last=True,\n",
    ")\n",
    "\n",
    "valid_data_loader = get_loader(\n",
    "    valid,\n",
    "    open_fn=lambda x: {\"image\": x[0].reshape(1, 28, 28), \"targets\": x[1]},\n",
    "    dict_transform=transform,\n",
    "    batch_size=batch_size,\n",
    "    num_workers=num_workers,\n",
    "    shuffle=False,\n",
    "    sampler=None,\n",
    "    drop_last=False,\n",
    ")"
   ]
  },
  {
   "cell_type": "markdown",
   "metadata": {
    "id": "cwaRij52oCUB"
   },
   "source": [
    "## GAN\n",
    "\n",
    "For GAN model, we need a Discriminator and a Generator. The Discriminator will judge generated images, how do they like real one. The Generator tries to fool the Discriminator.\n",
    "\n",
    "Notice that Generator is similar to Decoder in AE/VAE perspective. It will required later."
   ]
  },
  {
   "cell_type": "code",
   "execution_count": 12,
   "metadata": {
    "ExecuteTime": {
     "end_time": "2022-01-13T16:51:56.383738Z",
     "start_time": "2022-01-13T16:51:56.377802Z"
    },
    "id": "QppAiFFRoCUB"
   },
   "outputs": [],
   "source": [
    "class Discriminator(nn.Module):\n",
    "    def __init__(self):\n",
    "        super().__init__()\n",
    "        self.feature_extractor = nn.Sequential(\n",
    "            nn.Conv2d(1, 4, kernel_size=3, padding=1),\n",
    "            nn.LeakyReLU(0.1),\n",
    "            nn.MaxPool2d(2, 2),\n",
    "            nn.Conv2d(4, 16, kernel_size=3, padding=1),\n",
    "            nn.LeakyReLU(0.1),\n",
    "            nn.MaxPool2d(2, 2),\n",
    "            nn.Conv2d(16, 64, kernel_size=3, padding=1),\n",
    "            nn.LeakyReLU(0.1),\n",
    "            nn.AdaptiveMaxPool2d((1, 1)),\n",
    "            nn.Flatten(),\n",
    "        )\n",
    "        self.clf = nn.Linear(64, 1)\n",
    "\n",
    "    def forward(self, images: torch.Tensor) -> torch.Tensor:\n",
    "        features = self.feature_extractor(images)\n",
    "        return self.clf(features)"
   ]
  },
  {
   "cell_type": "code",
   "execution_count": 14,
   "metadata": {
    "ExecuteTime": {
     "end_time": "2022-01-13T17:08:51.376276Z",
     "start_time": "2022-01-13T17:08:51.370736Z"
    }
   },
   "outputs": [
    {
     "data": {
      "text/plain": [
       "125325663996571831810755483238273420616498507508098617146349500752097059631738116432448839054351520763198615919551594076685828989467263022761790838270854579830015111246661203984624358929832571615718014704096305668097507613273663023226895250541385927158426088684494082416768617708189592286936039922311125683719215046689156738352590137241554510185855964549927575493247391132548534378497978806084951085874202011836362315727420109554782988791530088289711844550500230485638413189947132142243947334199259300735622492937419453650061490302105127920314430401636855677549136337481321811349678427076091437345045399337348611261168055929355402992823192491190360027036112283180935872775214517464013178274657100736321564606838252739601156414628445543663144696050650160812621814327062666195172701780200286645023823083185928061371310300829284071141207731280600001"
      ]
     },
     "execution_count": 14,
     "metadata": {},
     "output_type": "execute_result"
    }
   ],
   "source": [
    "big_numb = 7 ** 1000\n",
    "big_numb"
   ]
  },
  {
   "cell_type": "code",
   "execution_count": 15,
   "metadata": {
    "ExecuteTime": {
     "end_time": "2022-01-13T17:11:08.671510Z",
     "start_time": "2022-01-13T17:11:08.654152Z"
    },
    "id": "C1cAWstQoCUB"
   },
   "outputs": [],
   "source": [
    "from catalyst.contrib.nn.modules import Lambda\n",
    "\n",
    "\n",
    "class Generator(nn.Module):\n",
    "    def __init__(\n",
    "        self,\n",
    "        image_size: tp.Tuple[int, int] = (28, 28),\n",
    "        latent_size: int = 10,\n",
    "    ):\n",
    "        super().__init__()\n",
    "\n",
    "        self.image_size = image_size\n",
    "        self.latent_size = latent_size\n",
    "\n",
    "        self.map_generator = nn.Sequential(\n",
    "            nn.Linear(latent_size, 64 * 49),\n",
    "            Lambda(lambda x: x.view(x.size(0), 64, 7, 7)),\n",
    "        )\n",
    "        self.deconv = nn.Sequential(\n",
    "            self.make_up_layer_(64, 16),  # 7 -> 14\n",
    "            self.make_up_layer_(16, 4),  # 14 -> 28\n",
    "        )\n",
    "\n",
    "        self.output = nn.Sequential(nn.Conv2d(4, 1, 3, padding=1), nn.Sigmoid())\n",
    "\n",
    "    def forward(self, points: torch.Tensor) -> torch.Tensor:\n",
    "        feature_map = self.map_generator(points)\n",
    "        feature_map = self.deconv(feature_map)\n",
    "        return self.output(feature_map)\n",
    "\n",
    "    def make_up_layer_(self, in_channels: int, out_channels: int) -> nn.Module:\n",
    "        return nn.Sequential(\n",
    "            nn.ConvTranspose2d(\n",
    "                in_channels,\n",
    "                out_channels,\n",
    "                kernel_size=3,\n",
    "                stride=2,\n",
    "                padding=1,\n",
    "                output_padding=1,\n",
    "            ),\n",
    "            nn.BatchNorm2d(out_channels),\n",
    "            nn.LeakyReLU(0.2),\n",
    "            nn.Conv2d(\n",
    "                out_channels,\n",
    "                out_channels,\n",
    "                kernel_size=3,\n",
    "                padding=1,\n",
    "            ),\n",
    "            nn.BatchNorm2d(out_channels),\n",
    "            nn.LeakyReLU(0.2),\n",
    "        )"
   ]
  },
  {
   "cell_type": "markdown",
   "metadata": {
    "id": "SbHTsVWnoCUC"
   },
   "source": [
    "To monitor decoded images, we have to write a new callback function. It will log image into the tensorboard."
   ]
  },
  {
   "cell_type": "code",
   "execution_count": 17,
   "metadata": {
    "ExecuteTime": {
     "end_time": "2022-01-13T17:11:54.993621Z",
     "start_time": "2022-01-13T17:11:54.987704Z"
    },
    "id": "sBPP_oM5oCUC"
   },
   "outputs": [],
   "source": [
    "from catalyst import dl\n",
    "from catalyst.core import Callback, CallbackOrder\n",
    "\n",
    "\n",
    "class LogFigureCallback(Callback):\n",
    "    def __init__(self):\n",
    "        super().__init__(CallbackOrder.External)\n",
    "\n",
    "    def on_epoch_end(self, runner):\n",
    "        logger = runner.loggers[\"_tensorboard\"]\n",
    "        logger = logger.loggers[runner.loader_key]\n",
    "        logger.add_images(\n",
    "            f\"image/epoch\",\n",
    "            runner.output[\"generated_images\"][:64],\n",
    "            global_step=runner.global_epoch_step,\n",
    "        )"
   ]
  },
  {
   "cell_type": "markdown",
   "metadata": {
    "id": "ewegvr2BoCUC"
   },
   "source": [
    "Create model, criterion, optimizer. Train model!"
   ]
  },
  {
   "cell_type": "code",
   "execution_count": 19,
   "metadata": {
    "ExecuteTime": {
     "end_time": "2022-01-13T17:13:32.413415Z",
     "start_time": "2022-01-13T17:13:32.405985Z"
    },
    "id": "E8LnTH0koCUD"
   },
   "outputs": [],
   "source": [
    "from catalyst.contrib.nn.optimizers import RAdam\n",
    "\n",
    "\n",
    "generator_1 = Generator()\n",
    "discriminator = Discriminator()\n",
    "\n",
    "model = {\"generator\": generator_1, \"discriminator\": discriminator}  # set models\n",
    "optimizer = {\n",
    "    \"generator\": RAdam(generator_1.parameters(), lr=3e-3, betas=(0.5, 0.999)),\n",
    "    \"discriminator\": RAdam(discriminator.parameters(), lr=3e-3, betas=(0.5, 0.999)),\n",
    "}  # set optimizers\n",
    "criterion = nn.BCEWithLogitsLoss()\n",
    "loaders = {\n",
    "    \"train\": train_data_loader,\n",
    "}"
   ]
  },
  {
   "cell_type": "code",
   "execution_count": 20,
   "metadata": {
    "ExecuteTime": {
     "end_time": "2022-01-13T17:13:34.968631Z",
     "start_time": "2022-01-13T17:13:34.963306Z"
    },
    "id": "vt7Yj5eSoCUD"
   },
   "outputs": [],
   "source": [
    "callbacks = [\n",
    "    dl.OptimizerCallback(\n",
    "        optimizer_key=\"generator\", metric_key=\"loss_generator\", model_key=\"generator\"\n",
    "    ),\n",
    "    dl.OptimizerCallback(\n",
    "        optimizer_key=\"discriminator\", metric_key=\"loss_discriminator\", model_key=\"discriminator\"\n",
    "    ),\n",
    "    LogFigureCallback(),\n",
    "]"
   ]
  },
  {
   "cell_type": "markdown",
   "metadata": {
    "id": "-VuQTlbdoCUD"
   },
   "source": [
    "Training process consists in two phases: discriminator and generator parts. The discriminator is differential metrics of 'fakeness'. So, it's trained to discriminate objects by `BinaryCrossEntropyLoss`. Because the discriminator is differential, we can pass knowledge about real images by backpropagation."
   ]
  },
  {
   "cell_type": "code",
   "execution_count": 21,
   "metadata": {
    "ExecuteTime": {
     "end_time": "2022-01-13T17:20:04.433862Z",
     "start_time": "2022-01-13T17:20:04.425741Z"
    },
    "id": "dS0vYz05oCUD"
   },
   "outputs": [],
   "source": [
    "class GANRunner(dl.Runner):\n",
    "    def handle_batch(self, batch: tp.Dict[str, torch.Tensor]):\n",
    "        real_images = batch[\"image\"]\n",
    "        batch_metrics = {}\n",
    "        latent_size = self.model[\"generator\"].latent_size\n",
    "\n",
    "        # Sample random points in the latent space\n",
    "        batch_size = real_images.shape[0]\n",
    "        random_latent_vectors = torch.randn(batch_size, latent_size).to(self.device)\n",
    "\n",
    "        # Generate fake images by random points\n",
    "        generated_images = self.model[\"generator\"](random_latent_vectors).detach()\n",
    "        # Combine them with real images\n",
    "        combined_images = torch.cat([generated_images, real_images])\n",
    "\n",
    "        # Assemble labels discriminating real from fake images\n",
    "        labels = torch.cat([torch.ones((batch_size, 1)), torch.zeros((batch_size, 1))]).to(\n",
    "            self.device\n",
    "        )\n",
    "\n",
    "        # Train the discriminator\n",
    "        predictions = self.model[\"discriminator\"](combined_images)\n",
    "        batch_metrics[\"loss_discriminator\"] = self.criterion(predictions, labels)\n",
    "\n",
    "        # Sample random points in the latent space\n",
    "        random_latent_vectors = torch.randn(batch_size, latent_size).to(self.device)\n",
    "        # Assemble labels that say 'all real images'\n",
    "        misleading_labels = torch.zeros((batch_size, 1)).to(self.device)\n",
    "\n",
    "        # Train the generator\n",
    "        generated_images = self.model[\"generator\"](random_latent_vectors)\n",
    "        self.output = {\"generated_images\": generated_images}\n",
    "        predictions = self.model[\"discriminator\"](generated_images)\n",
    "        batch_metrics[\"loss_generator\"] = self.criterion(predictions, misleading_labels)\n",
    "\n",
    "        self.batch_metrics.update(**batch_metrics)\n",
    "\n",
    "\n",
    "runner = GANRunner()"
   ]
  },
  {
   "cell_type": "code",
   "execution_count": 22,
   "metadata": {
    "ExecuteTime": {
     "end_time": "2022-01-13T17:20:32.565387Z",
     "start_time": "2022-01-13T17:20:31.026922Z"
    },
    "id": "zfiDKf3VoCUE"
   },
   "outputs": [
    {
     "data": {
      "text/html": [
       "\n",
       "      <iframe id=\"tensorboard-frame-1c80317fa3b1799d\" width=\"100%\" height=\"800\" frameborder=\"0\">\n",
       "      </iframe>\n",
       "      <script>\n",
       "        (function() {\n",
       "          const frame = document.getElementById(\"tensorboard-frame-1c80317fa3b1799d\");\n",
       "          const url = new URL(\"/\", window.location);\n",
       "          const port = 6006;\n",
       "          if (port) {\n",
       "            url.port = port;\n",
       "          }\n",
       "          frame.src = url;\n",
       "        })();\n",
       "      </script>\n",
       "    "
      ],
      "text/plain": [
       "<IPython.core.display.HTML object>"
      ]
     },
     "metadata": {},
     "output_type": "display_data"
    }
   ],
   "source": [
    "from datetime import datetime\n",
    "from pathlib import Path\n",
    "\n",
    "\n",
    "logdir = Path(\"logs\") / datetime.now().strftime(\"%Y%m%d-%H%M%S\")\n",
    "\n",
    "%reload_ext tensorboard\n",
    "%tensorboard --logdir logs"
   ]
  },
  {
   "cell_type": "code",
   "execution_count": 23,
   "metadata": {
    "ExecuteTime": {
     "end_time": "2022-01-13T17:20:54.841453Z",
     "start_time": "2022-01-13T17:20:52.744129Z"
    },
    "id": "2GgsFngXoCUE"
   },
   "outputs": [
    {
     "name": "stderr",
     "output_type": "stream",
     "text": [
      "/opt/miniconda3/envs/ml-mipt/lib/python3.8/site-packages/torch/nn/parallel/data_parallel.py:30: UserWarning: \n",
      "    There is an imbalance between your GPUs. You may want to exclude GPU 1 which\n",
      "    has less than 75% of the memory or cores of GPU 0. You can do so by setting\n",
      "    the device_ids argument to DataParallel, or by setting the CUDA_VISIBLE_DEVICES\n",
      "    environment variable.\n",
      "  warnings.warn(imbalance_warn.format(device_ids[min_pos], device_ids[max_pos]))\n"
     ]
    },
    {
     "data": {
      "application/vnd.jupyter.widget-view+json": {
       "model_id": "32d96424377549a8aaa8189b552089f1",
       "version_major": 2,
       "version_minor": 0
      },
      "text/plain": [
       "1/30 * Epoch (train):   0%|          | 0/58 [00:00<?, ?it/s]"
      ]
     },
     "metadata": {},
     "output_type": "display_data"
    },
    {
     "ename": "AttributeError",
     "evalue": "'DataParallel' object has no attribute 'latent_size'",
     "output_type": "error",
     "traceback": [
      "\u001b[0;31m---------------------------------------------------------------------------\u001b[0m",
      "\u001b[0;31mAttributeError\u001b[0m                            Traceback (most recent call last)",
      "\u001b[0;32m<ipython-input-23-438267d8e8ab>\u001b[0m in \u001b[0;36m<module>\u001b[0;34m\u001b[0m\n\u001b[0;32m----> 1\u001b[0;31m runner.train(\n\u001b[0m\u001b[1;32m      2\u001b[0m     \u001b[0mmodel\u001b[0m\u001b[0;34m=\u001b[0m\u001b[0mmodel\u001b[0m\u001b[0;34m,\u001b[0m\u001b[0;34m\u001b[0m\u001b[0;34m\u001b[0m\u001b[0m\n\u001b[1;32m      3\u001b[0m     \u001b[0moptimizer\u001b[0m\u001b[0;34m=\u001b[0m\u001b[0moptimizer\u001b[0m\u001b[0;34m,\u001b[0m\u001b[0;34m\u001b[0m\u001b[0;34m\u001b[0m\u001b[0m\n\u001b[1;32m      4\u001b[0m     \u001b[0mcriterion\u001b[0m\u001b[0;34m=\u001b[0m\u001b[0mcriterion\u001b[0m\u001b[0;34m,\u001b[0m\u001b[0;34m\u001b[0m\u001b[0;34m\u001b[0m\u001b[0m\n\u001b[1;32m      5\u001b[0m     \u001b[0mloaders\u001b[0m\u001b[0;34m=\u001b[0m\u001b[0mloaders\u001b[0m\u001b[0;34m,\u001b[0m\u001b[0;34m\u001b[0m\u001b[0;34m\u001b[0m\u001b[0m\n",
      "\u001b[0;32m/opt/miniconda3/envs/ml-mipt/lib/python3.8/site-packages/catalyst/runners/runner.py\u001b[0m in \u001b[0;36mtrain\u001b[0;34m(self, loaders, model, engine, trial, criterion, optimizer, scheduler, callbacks, loggers, seed, hparams, num_epochs, logdir, valid_loader, valid_metric, minimize_valid_metric, verbose, timeit, check, overfit, load_best_on_end, fp16, amp, apex, ddp)\u001b[0m\n\u001b[1;32m    512\u001b[0m         \u001b[0mself\u001b[0m\u001b[0;34m.\u001b[0m\u001b[0m_load_best_on_end\u001b[0m \u001b[0;34m=\u001b[0m \u001b[0mload_best_on_end\u001b[0m\u001b[0;34m\u001b[0m\u001b[0;34m\u001b[0m\u001b[0m\n\u001b[1;32m    513\u001b[0m         \u001b[0;31m# run\u001b[0m\u001b[0;34m\u001b[0m\u001b[0;34m\u001b[0m\u001b[0;34m\u001b[0m\u001b[0m\n\u001b[0;32m--> 514\u001b[0;31m         \u001b[0mself\u001b[0m\u001b[0;34m.\u001b[0m\u001b[0mrun\u001b[0m\u001b[0;34m(\u001b[0m\u001b[0;34m)\u001b[0m\u001b[0;34m\u001b[0m\u001b[0;34m\u001b[0m\u001b[0m\n\u001b[0m\u001b[1;32m    515\u001b[0m \u001b[0;34m\u001b[0m\u001b[0m\n\u001b[1;32m    516\u001b[0m     \u001b[0;34m@\u001b[0m\u001b[0mtorch\u001b[0m\u001b[0;34m.\u001b[0m\u001b[0mno_grad\u001b[0m\u001b[0;34m(\u001b[0m\u001b[0;34m)\u001b[0m\u001b[0;34m\u001b[0m\u001b[0;34m\u001b[0m\u001b[0m\n",
      "\u001b[0;32m/opt/miniconda3/envs/ml-mipt/lib/python3.8/site-packages/catalyst/core/runner.py\u001b[0m in \u001b[0;36mrun\u001b[0;34m(self)\u001b[0m\n\u001b[1;32m    821\u001b[0m         \u001b[0;32mexcept\u001b[0m \u001b[0;34m(\u001b[0m\u001b[0mException\u001b[0m\u001b[0;34m,\u001b[0m \u001b[0mKeyboardInterrupt\u001b[0m\u001b[0;34m)\u001b[0m \u001b[0;32mas\u001b[0m \u001b[0mex\u001b[0m\u001b[0;34m:\u001b[0m\u001b[0;34m\u001b[0m\u001b[0;34m\u001b[0m\u001b[0m\n\u001b[1;32m    822\u001b[0m             \u001b[0mself\u001b[0m\u001b[0;34m.\u001b[0m\u001b[0mexception\u001b[0m \u001b[0;34m=\u001b[0m \u001b[0mex\u001b[0m\u001b[0;34m\u001b[0m\u001b[0;34m\u001b[0m\u001b[0m\n\u001b[0;32m--> 823\u001b[0;31m             \u001b[0mself\u001b[0m\u001b[0;34m.\u001b[0m\u001b[0m_run_event\u001b[0m\u001b[0;34m(\u001b[0m\u001b[0;34m\"on_exception\"\u001b[0m\u001b[0;34m)\u001b[0m\u001b[0;34m\u001b[0m\u001b[0;34m\u001b[0m\u001b[0m\n\u001b[0m\u001b[1;32m    824\u001b[0m         \u001b[0;32mreturn\u001b[0m \u001b[0mself\u001b[0m\u001b[0;34m\u001b[0m\u001b[0;34m\u001b[0m\u001b[0m\n\u001b[1;32m    825\u001b[0m \u001b[0;34m\u001b[0m\u001b[0m\n",
      "\u001b[0;32m/opt/miniconda3/envs/ml-mipt/lib/python3.8/site-packages/catalyst/core/runner.py\u001b[0m in \u001b[0;36m_run_event\u001b[0;34m(self, event)\u001b[0m\n\u001b[1;32m    748\u001b[0m             \u001b[0mgetattr\u001b[0m\u001b[0;34m(\u001b[0m\u001b[0mcallback\u001b[0m\u001b[0;34m,\u001b[0m \u001b[0mevent\u001b[0m\u001b[0;34m)\u001b[0m\u001b[0;34m(\u001b[0m\u001b[0mself\u001b[0m\u001b[0;34m)\u001b[0m\u001b[0;34m\u001b[0m\u001b[0;34m\u001b[0m\u001b[0m\n\u001b[1;32m    749\u001b[0m         \u001b[0;32mif\u001b[0m \u001b[0m_has_str_intersections\u001b[0m\u001b[0;34m(\u001b[0m\u001b[0mevent\u001b[0m\u001b[0;34m,\u001b[0m \u001b[0;34m(\u001b[0m\u001b[0;34m\"_end\"\u001b[0m\u001b[0;34m,\u001b[0m \u001b[0;34m\"_exception\"\u001b[0m\u001b[0;34m)\u001b[0m\u001b[0;34m)\u001b[0m\u001b[0;34m:\u001b[0m\u001b[0;34m\u001b[0m\u001b[0;34m\u001b[0m\u001b[0m\n\u001b[0;32m--> 750\u001b[0;31m             \u001b[0mgetattr\u001b[0m\u001b[0;34m(\u001b[0m\u001b[0mself\u001b[0m\u001b[0;34m,\u001b[0m \u001b[0mevent\u001b[0m\u001b[0;34m)\u001b[0m\u001b[0;34m(\u001b[0m\u001b[0mself\u001b[0m\u001b[0;34m)\u001b[0m\u001b[0;34m\u001b[0m\u001b[0;34m\u001b[0m\u001b[0m\n\u001b[0m\u001b[1;32m    751\u001b[0m \u001b[0;34m\u001b[0m\u001b[0m\n\u001b[1;32m    752\u001b[0m     \u001b[0;34m@\u001b[0m\u001b[0mabstractmethod\u001b[0m\u001b[0;34m\u001b[0m\u001b[0;34m\u001b[0m\u001b[0m\n",
      "\u001b[0;32m/opt/miniconda3/envs/ml-mipt/lib/python3.8/site-packages/catalyst/core/runner.py\u001b[0m in \u001b[0;36mon_exception\u001b[0;34m(self, runner)\u001b[0m\n\u001b[1;32m    740\u001b[0m     \u001b[0;32mdef\u001b[0m \u001b[0mon_exception\u001b[0m\u001b[0;34m(\u001b[0m\u001b[0mself\u001b[0m\u001b[0;34m,\u001b[0m \u001b[0mrunner\u001b[0m\u001b[0;34m:\u001b[0m \u001b[0;34m\"IRunner\"\u001b[0m\u001b[0;34m)\u001b[0m\u001b[0;34m:\u001b[0m\u001b[0;34m\u001b[0m\u001b[0;34m\u001b[0m\u001b[0m\n\u001b[1;32m    741\u001b[0m         \u001b[0;34m\"\"\"Event handler.\"\"\"\u001b[0m\u001b[0;34m\u001b[0m\u001b[0;34m\u001b[0m\u001b[0m\n\u001b[0;32m--> 742\u001b[0;31m         \u001b[0;32mraise\u001b[0m \u001b[0mself\u001b[0m\u001b[0;34m.\u001b[0m\u001b[0mexception\u001b[0m\u001b[0;34m\u001b[0m\u001b[0;34m\u001b[0m\u001b[0m\n\u001b[0m\u001b[1;32m    743\u001b[0m \u001b[0;34m\u001b[0m\u001b[0m\n\u001b[1;32m    744\u001b[0m     \u001b[0;32mdef\u001b[0m \u001b[0m_run_event\u001b[0m\u001b[0;34m(\u001b[0m\u001b[0mself\u001b[0m\u001b[0;34m,\u001b[0m \u001b[0mevent\u001b[0m\u001b[0;34m:\u001b[0m \u001b[0mstr\u001b[0m\u001b[0;34m)\u001b[0m \u001b[0;34m->\u001b[0m \u001b[0;32mNone\u001b[0m\u001b[0;34m:\u001b[0m\u001b[0;34m\u001b[0m\u001b[0;34m\u001b[0m\u001b[0m\n",
      "\u001b[0;32m/opt/miniconda3/envs/ml-mipt/lib/python3.8/site-packages/catalyst/core/runner.py\u001b[0m in \u001b[0;36mrun\u001b[0;34m(self)\u001b[0m\n\u001b[1;32m    818\u001b[0m         \"\"\"\n\u001b[1;32m    819\u001b[0m         \u001b[0;32mtry\u001b[0m\u001b[0;34m:\u001b[0m\u001b[0;34m\u001b[0m\u001b[0;34m\u001b[0m\u001b[0m\n\u001b[0;32m--> 820\u001b[0;31m             \u001b[0mself\u001b[0m\u001b[0;34m.\u001b[0m\u001b[0m_run_experiment\u001b[0m\u001b[0;34m(\u001b[0m\u001b[0;34m)\u001b[0m\u001b[0;34m\u001b[0m\u001b[0;34m\u001b[0m\u001b[0m\n\u001b[0m\u001b[1;32m    821\u001b[0m         \u001b[0;32mexcept\u001b[0m \u001b[0;34m(\u001b[0m\u001b[0mException\u001b[0m\u001b[0;34m,\u001b[0m \u001b[0mKeyboardInterrupt\u001b[0m\u001b[0;34m)\u001b[0m \u001b[0;32mas\u001b[0m \u001b[0mex\u001b[0m\u001b[0;34m:\u001b[0m\u001b[0;34m\u001b[0m\u001b[0;34m\u001b[0m\u001b[0m\n\u001b[1;32m    822\u001b[0m             \u001b[0mself\u001b[0m\u001b[0;34m.\u001b[0m\u001b[0mexception\u001b[0m \u001b[0;34m=\u001b[0m \u001b[0mex\u001b[0m\u001b[0;34m\u001b[0m\u001b[0;34m\u001b[0m\u001b[0m\n",
      "\u001b[0;32m/opt/miniconda3/envs/ml-mipt/lib/python3.8/site-packages/catalyst/core/runner.py\u001b[0m in \u001b[0;36m_run_experiment\u001b[0;34m(self)\u001b[0m\n\u001b[1;32m    808\u001b[0m             \u001b[0;32melse\u001b[0m\u001b[0;34m:\u001b[0m\u001b[0;34m\u001b[0m\u001b[0;34m\u001b[0m\u001b[0m\n\u001b[1;32m    809\u001b[0m                 \u001b[0;31m# single-device branch (cpu, gpu, dp)\u001b[0m\u001b[0;34m\u001b[0m\u001b[0;34m\u001b[0m\u001b[0;34m\u001b[0m\u001b[0m\n\u001b[0;32m--> 810\u001b[0;31m                 \u001b[0mself\u001b[0m\u001b[0;34m.\u001b[0m\u001b[0m_run_stage\u001b[0m\u001b[0;34m(\u001b[0m\u001b[0;34m)\u001b[0m\u001b[0;34m\u001b[0m\u001b[0;34m\u001b[0m\u001b[0m\n\u001b[0m\u001b[1;32m    811\u001b[0m         \u001b[0mself\u001b[0m\u001b[0;34m.\u001b[0m\u001b[0m_run_event\u001b[0m\u001b[0;34m(\u001b[0m\u001b[0;34m\"on_experiment_end\"\u001b[0m\u001b[0;34m)\u001b[0m\u001b[0;34m\u001b[0m\u001b[0;34m\u001b[0m\u001b[0m\n\u001b[1;32m    812\u001b[0m \u001b[0;34m\u001b[0m\u001b[0m\n",
      "\u001b[0;32m/opt/miniconda3/envs/ml-mipt/lib/python3.8/site-packages/catalyst/core/runner.py\u001b[0m in \u001b[0;36m_run_stage\u001b[0;34m(self, rank, world_size)\u001b[0m\n\u001b[1;32m    791\u001b[0m         \u001b[0mself\u001b[0m\u001b[0;34m.\u001b[0m\u001b[0m_run_event\u001b[0m\u001b[0;34m(\u001b[0m\u001b[0;34m\"on_stage_start\"\u001b[0m\u001b[0;34m)\u001b[0m\u001b[0;34m\u001b[0m\u001b[0;34m\u001b[0m\u001b[0m\n\u001b[1;32m    792\u001b[0m         \u001b[0;32mwhile\u001b[0m \u001b[0mself\u001b[0m\u001b[0;34m.\u001b[0m\u001b[0mstage_epoch_step\u001b[0m \u001b[0;34m<\u001b[0m \u001b[0mself\u001b[0m\u001b[0;34m.\u001b[0m\u001b[0mstage_epoch_len\u001b[0m\u001b[0;34m:\u001b[0m\u001b[0;34m\u001b[0m\u001b[0;34m\u001b[0m\u001b[0m\n\u001b[0;32m--> 793\u001b[0;31m             \u001b[0mself\u001b[0m\u001b[0;34m.\u001b[0m\u001b[0m_run_epoch\u001b[0m\u001b[0;34m(\u001b[0m\u001b[0;34m)\u001b[0m\u001b[0;34m\u001b[0m\u001b[0;34m\u001b[0m\u001b[0m\n\u001b[0m\u001b[1;32m    794\u001b[0m             \u001b[0;32mif\u001b[0m \u001b[0mself\u001b[0m\u001b[0;34m.\u001b[0m\u001b[0mneed_early_stop\u001b[0m\u001b[0;34m:\u001b[0m\u001b[0;34m\u001b[0m\u001b[0;34m\u001b[0m\u001b[0m\n\u001b[1;32m    795\u001b[0m                 \u001b[0mself\u001b[0m\u001b[0;34m.\u001b[0m\u001b[0mneed_early_stop\u001b[0m \u001b[0;34m=\u001b[0m \u001b[0;32mFalse\u001b[0m\u001b[0;34m\u001b[0m\u001b[0;34m\u001b[0m\u001b[0m\n",
      "\u001b[0;32m/opt/miniconda3/envs/ml-mipt/lib/python3.8/site-packages/catalyst/core/runner.py\u001b[0m in \u001b[0;36m_run_epoch\u001b[0;34m(self)\u001b[0m\n\u001b[1;32m    784\u001b[0m         \u001b[0mself\u001b[0m\u001b[0;34m.\u001b[0m\u001b[0m_run_event\u001b[0m\u001b[0;34m(\u001b[0m\u001b[0;34m\"on_epoch_start\"\u001b[0m\u001b[0;34m)\u001b[0m\u001b[0;34m\u001b[0m\u001b[0;34m\u001b[0m\u001b[0m\n\u001b[1;32m    785\u001b[0m         \u001b[0;32mfor\u001b[0m \u001b[0mself\u001b[0m\u001b[0;34m.\u001b[0m\u001b[0mloader_key\u001b[0m\u001b[0;34m,\u001b[0m \u001b[0mself\u001b[0m\u001b[0;34m.\u001b[0m\u001b[0mloader\u001b[0m \u001b[0;32min\u001b[0m \u001b[0mself\u001b[0m\u001b[0;34m.\u001b[0m\u001b[0mloaders\u001b[0m\u001b[0;34m.\u001b[0m\u001b[0mitems\u001b[0m\u001b[0;34m(\u001b[0m\u001b[0;34m)\u001b[0m\u001b[0;34m:\u001b[0m\u001b[0;34m\u001b[0m\u001b[0;34m\u001b[0m\u001b[0m\n\u001b[0;32m--> 786\u001b[0;31m             \u001b[0mself\u001b[0m\u001b[0;34m.\u001b[0m\u001b[0m_run_loader\u001b[0m\u001b[0;34m(\u001b[0m\u001b[0;34m)\u001b[0m\u001b[0;34m\u001b[0m\u001b[0;34m\u001b[0m\u001b[0m\n\u001b[0m\u001b[1;32m    787\u001b[0m         \u001b[0mself\u001b[0m\u001b[0;34m.\u001b[0m\u001b[0m_run_event\u001b[0m\u001b[0;34m(\u001b[0m\u001b[0;34m\"on_epoch_end\"\u001b[0m\u001b[0;34m)\u001b[0m\u001b[0;34m\u001b[0m\u001b[0;34m\u001b[0m\u001b[0m\n\u001b[1;32m    788\u001b[0m \u001b[0;34m\u001b[0m\u001b[0m\n",
      "\u001b[0;32m/opt/miniconda3/envs/ml-mipt/lib/python3.8/site-packages/catalyst/core/runner.py\u001b[0m in \u001b[0;36m_run_loader\u001b[0;34m(self)\u001b[0m\n\u001b[1;32m    775\u001b[0m             \u001b[0;32mfor\u001b[0m \u001b[0mself\u001b[0m\u001b[0;34m.\u001b[0m\u001b[0mloader_batch_step\u001b[0m\u001b[0;34m,\u001b[0m \u001b[0mself\u001b[0m\u001b[0;34m.\u001b[0m\u001b[0mbatch\u001b[0m \u001b[0;32min\u001b[0m \u001b[0menumerate\u001b[0m\u001b[0;34m(\u001b[0m\u001b[0mself\u001b[0m\u001b[0;34m.\u001b[0m\u001b[0mloader\u001b[0m\u001b[0;34m)\u001b[0m\u001b[0;34m:\u001b[0m\u001b[0;34m\u001b[0m\u001b[0;34m\u001b[0m\u001b[0m\n\u001b[1;32m    776\u001b[0m                 \u001b[0;32mwith\u001b[0m \u001b[0mself\u001b[0m\u001b[0;34m.\u001b[0m\u001b[0mengine\u001b[0m\u001b[0;34m.\u001b[0m\u001b[0mautocast\u001b[0m\u001b[0;34m(\u001b[0m\u001b[0;34m)\u001b[0m\u001b[0;34m:\u001b[0m\u001b[0;34m\u001b[0m\u001b[0;34m\u001b[0m\u001b[0m\n\u001b[0;32m--> 777\u001b[0;31m                     \u001b[0mself\u001b[0m\u001b[0;34m.\u001b[0m\u001b[0m_run_batch\u001b[0m\u001b[0;34m(\u001b[0m\u001b[0;34m)\u001b[0m\u001b[0;34m\u001b[0m\u001b[0;34m\u001b[0m\u001b[0m\n\u001b[0m\u001b[1;32m    778\u001b[0m                 \u001b[0;32mif\u001b[0m \u001b[0mself\u001b[0m\u001b[0;34m.\u001b[0m\u001b[0mneed_early_stop\u001b[0m\u001b[0;34m:\u001b[0m\u001b[0;34m\u001b[0m\u001b[0;34m\u001b[0m\u001b[0m\n\u001b[1;32m    779\u001b[0m                     \u001b[0mself\u001b[0m\u001b[0;34m.\u001b[0m\u001b[0mneed_early_stop\u001b[0m \u001b[0;34m=\u001b[0m \u001b[0;32mFalse\u001b[0m\u001b[0;34m\u001b[0m\u001b[0;34m\u001b[0m\u001b[0m\n",
      "\u001b[0;32m/opt/miniconda3/envs/ml-mipt/lib/python3.8/site-packages/catalyst/core/runner.py\u001b[0m in \u001b[0;36m_run_batch\u001b[0;34m(self)\u001b[0m\n\u001b[1;32m    763\u001b[0m     \u001b[0;32mdef\u001b[0m \u001b[0m_run_batch\u001b[0m\u001b[0;34m(\u001b[0m\u001b[0mself\u001b[0m\u001b[0;34m)\u001b[0m \u001b[0;34m->\u001b[0m \u001b[0;32mNone\u001b[0m\u001b[0;34m:\u001b[0m\u001b[0;34m\u001b[0m\u001b[0;34m\u001b[0m\u001b[0m\n\u001b[1;32m    764\u001b[0m         \u001b[0mself\u001b[0m\u001b[0;34m.\u001b[0m\u001b[0m_run_event\u001b[0m\u001b[0;34m(\u001b[0m\u001b[0;34m\"on_batch_start\"\u001b[0m\u001b[0;34m)\u001b[0m\u001b[0;34m\u001b[0m\u001b[0;34m\u001b[0m\u001b[0m\n\u001b[0;32m--> 765\u001b[0;31m         \u001b[0mself\u001b[0m\u001b[0;34m.\u001b[0m\u001b[0mhandle_batch\u001b[0m\u001b[0;34m(\u001b[0m\u001b[0mbatch\u001b[0m\u001b[0;34m=\u001b[0m\u001b[0mself\u001b[0m\u001b[0;34m.\u001b[0m\u001b[0mbatch\u001b[0m\u001b[0;34m)\u001b[0m\u001b[0;34m\u001b[0m\u001b[0;34m\u001b[0m\u001b[0m\n\u001b[0m\u001b[1;32m    766\u001b[0m         \u001b[0mself\u001b[0m\u001b[0;34m.\u001b[0m\u001b[0mbatch\u001b[0m \u001b[0;34m=\u001b[0m \u001b[0mself\u001b[0m\u001b[0;34m.\u001b[0m\u001b[0mengine\u001b[0m\u001b[0;34m.\u001b[0m\u001b[0msync_device\u001b[0m\u001b[0;34m(\u001b[0m\u001b[0mself\u001b[0m\u001b[0;34m.\u001b[0m\u001b[0mbatch\u001b[0m\u001b[0;34m)\u001b[0m\u001b[0;34m\u001b[0m\u001b[0;34m\u001b[0m\u001b[0m\n\u001b[1;32m    767\u001b[0m         \u001b[0mself\u001b[0m\u001b[0;34m.\u001b[0m\u001b[0m_run_event\u001b[0m\u001b[0;34m(\u001b[0m\u001b[0;34m\"on_batch_end\"\u001b[0m\u001b[0;34m)\u001b[0m\u001b[0;34m\u001b[0m\u001b[0;34m\u001b[0m\u001b[0m\n",
      "\u001b[0;32m<ipython-input-21-96554a982d26>\u001b[0m in \u001b[0;36mhandle_batch\u001b[0;34m(self, batch)\u001b[0m\n\u001b[1;32m      3\u001b[0m         \u001b[0mreal_images\u001b[0m \u001b[0;34m=\u001b[0m \u001b[0mbatch\u001b[0m\u001b[0;34m[\u001b[0m\u001b[0;34m'image'\u001b[0m\u001b[0;34m]\u001b[0m\u001b[0;34m\u001b[0m\u001b[0;34m\u001b[0m\u001b[0m\n\u001b[1;32m      4\u001b[0m         \u001b[0mbatch_metrics\u001b[0m \u001b[0;34m=\u001b[0m \u001b[0;34m{\u001b[0m\u001b[0;34m}\u001b[0m\u001b[0;34m\u001b[0m\u001b[0;34m\u001b[0m\u001b[0m\n\u001b[0;32m----> 5\u001b[0;31m         \u001b[0mlatent_size\u001b[0m \u001b[0;34m=\u001b[0m \u001b[0mself\u001b[0m\u001b[0;34m.\u001b[0m\u001b[0mmodel\u001b[0m\u001b[0;34m[\u001b[0m\u001b[0;34m'generator'\u001b[0m\u001b[0;34m]\u001b[0m\u001b[0;34m.\u001b[0m\u001b[0mlatent_size\u001b[0m\u001b[0;34m\u001b[0m\u001b[0;34m\u001b[0m\u001b[0m\n\u001b[0m\u001b[1;32m      6\u001b[0m \u001b[0;34m\u001b[0m\u001b[0m\n\u001b[1;32m      7\u001b[0m         \u001b[0;31m# Sample random points in the latent space\u001b[0m\u001b[0;34m\u001b[0m\u001b[0;34m\u001b[0m\u001b[0;34m\u001b[0m\u001b[0m\n",
      "\u001b[0;32m/opt/miniconda3/envs/ml-mipt/lib/python3.8/site-packages/torch/nn/modules/module.py\u001b[0m in \u001b[0;36m__getattr__\u001b[0;34m(self, name)\u001b[0m\n\u001b[1;32m    945\u001b[0m             \u001b[0;32mif\u001b[0m \u001b[0mname\u001b[0m \u001b[0;32min\u001b[0m \u001b[0mmodules\u001b[0m\u001b[0;34m:\u001b[0m\u001b[0;34m\u001b[0m\u001b[0;34m\u001b[0m\u001b[0m\n\u001b[1;32m    946\u001b[0m                 \u001b[0;32mreturn\u001b[0m \u001b[0mmodules\u001b[0m\u001b[0;34m[\u001b[0m\u001b[0mname\u001b[0m\u001b[0;34m]\u001b[0m\u001b[0;34m\u001b[0m\u001b[0;34m\u001b[0m\u001b[0m\n\u001b[0;32m--> 947\u001b[0;31m         raise AttributeError(\"'{}' object has no attribute '{}'\".format(\n\u001b[0m\u001b[1;32m    948\u001b[0m             type(self).__name__, name))\n\u001b[1;32m    949\u001b[0m \u001b[0;34m\u001b[0m\u001b[0m\n",
      "\u001b[0;31mAttributeError\u001b[0m: 'DataParallel' object has no attribute 'latent_size'"
     ]
    }
   ],
   "source": [
    "runner.train(\n",
    "    model=model,\n",
    "    optimizer=optimizer,\n",
    "    criterion=criterion,\n",
    "    loaders=loaders,\n",
    "    callbacks=callbacks,\n",
    "    num_epochs=30,\n",
    "    verbose=True,\n",
    "    logdir=logdir,\n",
    ")"
   ]
  },
  {
   "cell_type": "markdown",
   "metadata": {
    "id": "ACatHF8ioCUE"
   },
   "source": [
    "## VAE-GAN\n",
    "\n",
    "Remember that the Discriminator is a Decoder? Let's add an Encoder in our training rutin:\n",
    "\n",
    "![](https://habrastorage.org/web/7a1/8db/d39/7a18dbd3969048c2b085cc707e539f0c.png)\n",
    "\n",
    "It will make latent space meaningfull.\n",
    "\n",
    "To train all these models, we need new loss function for encoder model. We need to compare results from the Discriminator with the real images. Instead from comparing images in the original sizes, we can compare feature maps from the Discriminator.\n",
    "\n",
    "\n",
    "https://arxiv.org/pdf/1512.09300.pdf"
   ]
  },
  {
   "cell_type": "code",
   "execution_count": null,
   "metadata": {
    "id": "AHcfHPcNoCUE"
   },
   "outputs": [],
   "source": [
    "class Encoder(nn.Module):\n",
    "    def __init__(self, latent_size: int = 10):\n",
    "        super().__init__()\n",
    "        self.feature_extractor = nn.Sequential(\n",
    "            nn.Conv2d(1, 4, kernel_size=3, padding=1),\n",
    "            nn.ReLU(),\n",
    "            nn.MaxPool2d(kernel_size=2, stride=2),\n",
    "            nn.Conv2d(4, 16, kernel_size=3, padding=1),\n",
    "            nn.ReLU(),\n",
    "            nn.MaxPool2d(kernel_size=2, stride=2),\n",
    "            nn.Conv2d(16, 64, kernel_size=3, padding=1),\n",
    "            nn.ReLU(),\n",
    "            nn.AdaptiveMaxPool2d((1, 1)),\n",
    "            nn.Flatten(),\n",
    "        )\n",
    "        self.latent_space = nn.Linear(64, 2 * latent_size)\n",
    "\n",
    "        self.latent_size = latent_size\n",
    "\n",
    "    def forward(self, images: torch.Tensor) -> tp.Tuple[torch.Tensor, torch.Tensor]:\n",
    "        features = self.feature_extractor(images)\n",
    "        latent = self.latent_space(features)\n",
    "        return latent[:, : self.latent_size], latent[:, self.latent_size :]"
   ]
  },
  {
   "cell_type": "code",
   "execution_count": null,
   "metadata": {
    "id": "LnbyWCPJoCUF"
   },
   "outputs": [],
   "source": [
    "class Discriminator_v2(nn.Module):\n",
    "    def __init__(self):\n",
    "        super().__init__()\n",
    "        self.feature_extractor = nn.Sequential(\n",
    "            nn.Conv2d(1, 4, kernel_size=3, padding=1),\n",
    "            nn.LeakyReLU(0.1),\n",
    "            nn.MaxPool2d(2, 2),\n",
    "            nn.Conv2d(4, 16, kernel_size=3, padding=1),\n",
    "            nn.LeakyReLU(0.1),\n",
    "            nn.MaxPool2d(2, 2),\n",
    "            nn.Conv2d(16, 64, kernel_size=3, padding=1),\n",
    "            nn.LeakyReLU(0.1),\n",
    "            nn.AdaptiveMaxPool2d((1, 1)),\n",
    "            nn.Flatten(),\n",
    "        )\n",
    "        self.clf = nn.Linear(64, 1)\n",
    "\n",
    "    def forward(self, images: torch.Tensor) -> tp.Tuple[torch.Tensor, torch.Tensor]:\n",
    "        features = self.feature_extractor(images)\n",
    "        return self.clf(features), features"
   ]
  },
  {
   "cell_type": "code",
   "execution_count": null,
   "metadata": {
    "id": "CA9FQ8EkoCUF"
   },
   "outputs": [],
   "source": [
    "class KLVAELoss(nn.Module):\n",
    "    def __init__(self):\n",
    "        super().__init__()\n",
    "\n",
    "    def forward(self, loc: torch.Tensor, log_scale: torch.Tensor) -> torch.Tensor:\n",
    "        return (-0.5 * torch.sum(log_scale - loc.pow(2) - log_scale.exp(), dim=1)).mean()"
   ]
  },
  {
   "cell_type": "code",
   "execution_count": null,
   "metadata": {
    "id": "WFTSUSxToCUF"
   },
   "outputs": [],
   "source": [
    "encoder = Encoder()\n",
    "generator_2 = Generator()\n",
    "discriminator = Discriminator_v2()\n",
    "\n",
    "model = {\"generator\": generator_2, \"discriminator\": discriminator, \"encoder\": encoder}  # set models\n",
    "optimizer = {\n",
    "    \"generator\": RAdam(generator_2.parameters(), lr=3e-3, betas=(0.5, 0.999)),\n",
    "    \"discriminator\": RAdam(discriminator.parameters(), lr=3e-3, betas=(0.5, 0.999)),\n",
    "    \"encoder\": RAdam(encoder.parameters(), lr=3e-3, betas=(0.5, 0.999)),\n",
    "}  # set optimizers\n",
    "criterion = {\"bce\": nn.BCEWithLogitsLoss(), \"mse\": nn.MSELoss(), \"vae\": KLVAELoss()}\n",
    "loaders = {\"train\": train_data_loader}"
   ]
  },
  {
   "cell_type": "code",
   "execution_count": null,
   "metadata": {
    "id": "evcNxQuHoCUG"
   },
   "outputs": [],
   "source": [
    "callbacks = [\n",
    "    LogFigureCallback(),\n",
    "]"
   ]
  },
  {
   "cell_type": "markdown",
   "metadata": {
    "id": "IgYPwZ58oCUG"
   },
   "source": [
    "Look the architecture and parameter update rutine:\n",
    "\n",
    "Model Architecture:\n",
    "![image](https://habrastorage.org/web/701/bbb/212/701bbb21273045fc9ed4aab7e0529764.png)\n",
    "\n",
    "Parameter Updates:\n",
    "![image](https://habrastorage.org/getpro/habr/post_images/07a/d0b/dc0/07ad0bdc0524f17cd4ae6c6e1be3c36d.svg)\n",
    "\n",
    "What we need to code?\n",
    "\n",
    "- Encoding training: compact latent space (KL Loss) and object reconstruction\n",
    "- Discriminator training: discriminate real from fake and reconstructed\n",
    "- Generator/decoder training: object reconstruction and fake object generator"
   ]
  },
  {
   "cell_type": "code",
   "execution_count": null,
   "metadata": {
    "id": "tfbOQXVBoCUG"
   },
   "outputs": [],
   "source": [
    "LOG_SCALE_MAX = 2\n",
    "LOG_SCALE_MIN = -10\n",
    "\n",
    "\n",
    "def normal_sample(loc: torch.Tensor, log_scale: torch.Tensor) -> torch.Tensor:\n",
    "    scale = torch.exp(0.5 * log_scale)\n",
    "    return loc + scale * torch.randn_like(scale)\n",
    "\n",
    "\n",
    "class VAEGANRunner(dl.Runner):\n",
    "    def _zero_grad(self):\n",
    "        for optimizer in self.optimizer.values():\n",
    "            optimizer.zero_grad()\n",
    "\n",
    "    def handle_batch(self, batch: tp.Dict[str, torch.Tensor]):\n",
    "        real_images = batch[\"image\"]\n",
    "        batch_metrics = {}\n",
    "        latent_size = self.model[\"generator\"].latent_size\n",
    "\n",
    "        # encoder-decoder part\n",
    "        latent_loc, latent_log_scale = self.model[\"encoder\"](real_images)\n",
    "        loss_prior = self.criterion[\"vae\"](latent_loc, latent_log_scale)\n",
    "\n",
    "        latent_log_scale = torch.clamp(latent_log_scale, LOG_SCALE_MIN, LOG_SCALE_MAX)\n",
    "        latent_vectors = normal_sample(latent_loc, latent_log_scale)\n",
    "\n",
    "        decoded_images = self.model[\"generator\"](latent_vectors)\n",
    "\n",
    "        _, predictions_decoded = self.model[\"discriminator\"](decoded_images)\n",
    "        _, predictions_real = self.model[\"discriminator\"](real_images)\n",
    "        loss_dislike = self.criterion[\"mse\"](decoded_images, real_images)\n",
    "\n",
    "        # generator part\n",
    "\n",
    "        batch_size = real_images.shape[0]\n",
    "        random_latent_vectors = torch.randn(batch_size, latent_size).to(self.device)\n",
    "\n",
    "        generated_images = self.model[\"generator\"](random_latent_vectors)\n",
    "\n",
    "        combined_images = torch.cat([generated_images, decoded_images])\n",
    "        labels = torch.zeros((2 * batch_size, 1)).to(self.device)\n",
    "\n",
    "        self.output = {\"generated_images\": generated_images}\n",
    "        predictions, _ = self.model[\"discriminator\"](combined_images)\n",
    "        loss_generator = self.criterion[\"bce\"](predictions, labels)\n",
    "\n",
    "        # discriminator part\n",
    "\n",
    "        latent_vectors = normal_sample(latent_loc, latent_log_scale)\n",
    "        random_latent_vectors = torch.randn(batch_size, latent_size).to(self.device)\n",
    "\n",
    "        decoded_images = self.model[\"generator\"](latent_vectors)\n",
    "        generated_images = self.model[\"generator\"](random_latent_vectors)\n",
    "\n",
    "        combined_images = torch.cat([generated_images, decoded_images, real_images]).detach()\n",
    "        labels = torch.cat([torch.ones((2 * batch_size, 1)), torch.zeros((batch_size, 1))]).to(\n",
    "            self.device\n",
    "        )\n",
    "        predictions, _ = self.model[\"discriminator\"](combined_images)\n",
    "        loss_discriminator = self.criterion[\"bce\"](predictions, labels)\n",
    "\n",
    "        # closely look at the picture above and sum up losses for all part of VAE-GAN\n",
    "        batch_metrics[\"loss_encoder\"] = loss_prior + loss_dislike\n",
    "        batch_metrics[\"loss_generator\"] = loss_dislike + loss_generator\n",
    "        batch_metrics[\"loss_discriminator\"] = loss_discriminator\n",
    "        if self.is_train_loader:\n",
    "            batch_metrics[\"loss_encoder\"].backward(retain_graph=True)\n",
    "            optimizer[\"encoder\"].step()\n",
    "            self._zero_grad()\n",
    "\n",
    "            batch_metrics[\"loss_generator\"].backward(retain_graph=True)\n",
    "            optimizer[\"generator\"].step()\n",
    "            self._zero_grad()\n",
    "\n",
    "            batch_metrics[\"loss_discriminator\"].backward()\n",
    "            optimizer[\"discriminator\"].step()\n",
    "            self._zero_grad()\n",
    "\n",
    "        self.batch_metrics.update(**batch_metrics)\n",
    "\n",
    "\n",
    "runner = VAEGANRunner()"
   ]
  },
  {
   "cell_type": "code",
   "execution_count": null,
   "metadata": {
    "id": "T8LB8pYAoCUG"
   },
   "outputs": [],
   "source": [
    "logdir = Path(\"logs\") / datetime.now().strftime(\"%Y%m%d-%H%M%S\")"
   ]
  },
  {
   "cell_type": "code",
   "execution_count": null,
   "metadata": {
    "id": "YNr63bFroCUG"
   },
   "outputs": [],
   "source": [
    "runner.train(\n",
    "    model=model,\n",
    "    optimizer=optimizer,\n",
    "    criterion=criterion,\n",
    "    loaders=loaders,\n",
    "    callbacks=callbacks,\n",
    "    num_epochs=30,\n",
    "    verbose=True,\n",
    "    logdir=logdir,\n",
    ")"
   ]
  },
  {
   "cell_type": "markdown",
   "metadata": {
    "id": "7on_tBploCUH"
   },
   "source": [
    "How to compare models? Usually reseacher just closely look at the pictures. But they can use computer brains and eyes to compare generative models. Let's look at the one of them."
   ]
  },
  {
   "cell_type": "markdown",
   "metadata": {
    "id": "Cj4XqOvgoCUH"
   },
   "source": [
    "## Inception score\n",
    "\n",
    "Wait, wat? We can create numerical metric for generative models? Yes, we can. The metric called Inception score. To calculate it, we need the image classificator and generated images. Let's do it.\n",
    "\n",
    "\\*Inception score usually calculates for generators, trained on ImageNet/CIFAR. But we have no time to train GAN on these datasets. So, we will work with MNIST."
   ]
  },
  {
   "cell_type": "code",
   "execution_count": null,
   "metadata": {
    "id": "24BjDF_ooCUH"
   },
   "outputs": [],
   "source": [
    "clf_model = nn.Sequential(nn.Flatten(), nn.Linear(28 * 28, 10)).to(device)\n",
    "criterion = nn.CrossEntropyLoss()\n",
    "optimizer = RAdam(clf_model.parameters(), lr=0.05)\n",
    "\n",
    "runner = dl.SupervisedRunner(\n",
    "    input_key=\"image\",\n",
    "    output_key=\"logits\",\n",
    "    target_key=\"targets\",\n",
    ")\n",
    "runner.train(\n",
    "    model=clf_model,\n",
    "    optimizer=optimizer,\n",
    "    criterion=criterion,\n",
    "    callbacks=[dl.AccuracyCallback(input_key=\"logits\", target_key=\"targets\")],\n",
    "    loaders={\"train\": train_data_loader, \"valid\": valid_data_loader},\n",
    "    num_epochs=20,\n",
    "    verbose=False,\n",
    "    load_best_on_end=True,\n",
    ")"
   ]
  },
  {
   "cell_type": "markdown",
   "metadata": {
    "id": "Ql-XzGKsoCUH"
   },
   "source": [
    "Inception Score fomulating by this:\n",
    "\n",
    "![](https://www.oreilly.com/library/view/generative-adversarial-networks/9781789136678/assets/0d33c46a-0a5f-4027-919c-30b910e6d93b.png)\n",
    "\n",
    "where $p(y)$ – is probability of class in a dataset, $p(y|x)$ – is probability of class of object.\n",
    "\n",
    "[Read more on IS](https://medium.com/octavian-ai/a-simple-explanation-of-the-inception-score-372dff6a8c7a)"
   ]
  },
  {
   "cell_type": "code",
   "execution_count": null,
   "metadata": {
    "id": "_eYbSw36oCUH"
   },
   "outputs": [],
   "source": [
    "from tqdm.notebook import trange\n",
    "\n",
    "\n",
    "def inception_score(model: nn.Module):\n",
    "    p_y = torch.ones(10).to(device) / 10\n",
    "    log_is = 0\n",
    "    num_images = 50000\n",
    "    batch_size = 100\n",
    "\n",
    "    model.eval()\n",
    "    with torch.no_grad():\n",
    "        for _ in trange(num_images // batch_size):\n",
    "            latent_size = model.latent_size\n",
    "            random_latent_points = torch.randn((batch_size, latent_size)).to(device)\n",
    "            generated = model(random_latent_points)\n",
    "            logits = clf_model(generated)\n",
    "            p_y_x = torch.softmax(logits, 1)\n",
    "            log_is += (torch.log(p_y_x) * p_y_x - torch.log(p_y) * p_y_x).sum(1)\n",
    "\n",
    "    log_is /= num_images\n",
    "    return torch.exp(log_is.mean())"
   ]
  },
  {
   "cell_type": "code",
   "execution_count": null,
   "metadata": {
    "id": "yqumYMweoCUH"
   },
   "outputs": [],
   "source": [
    "inception_score(generator_1)"
   ]
  },
  {
   "cell_type": "code",
   "execution_count": null,
   "metadata": {
    "id": "ilxhkEV5oCUH"
   },
   "outputs": [],
   "source": [
    "inception_score(generator_2)"
   ]
  },
  {
   "cell_type": "markdown",
   "metadata": {
    "id": "9Vf3mk7_oCUI"
   },
   "source": [
    "## (Additional) Another point in VAE - GAN: AAE\n",
    "\n",
    "AAE stands for Adversarial Autoencoders. It is like a inverted VAE-GAN. A main model become AE, but we will use Discriminator to compare points in a latent space. Let's code it."
   ]
  },
  {
   "cell_type": "code",
   "execution_count": null,
   "metadata": {
    "id": "DUoMIwCKoCUI"
   },
   "outputs": [],
   "source": [
    "class Disciriminator_v3(nn.Module):\n",
    "    def __init__(self, latent_size: int = 4):\n",
    "        super().__init__()\n",
    "\n",
    "        self.latent_size = latent_size\n",
    "\n",
    "        self.model = nn.Sequential(\n",
    "            nn.Linear(latent_size, 100), nn.Dropout(0.1), nn.ReLU(), nn.Linear(100, 1), nn.Sigmoid()\n",
    "        )\n",
    "\n",
    "    def forward(self, z: torch.Tensor) -> torch.Tensor:\n",
    "        return self.model(z)"
   ]
  },
  {
   "cell_type": "code",
   "execution_count": null,
   "metadata": {
    "id": "C37kyUopoCUI"
   },
   "outputs": [],
   "source": [
    "class Encoder(nn.Module):\n",
    "    def __init__(self, latent_size: int = 10):\n",
    "        super().__init__()\n",
    "        self.feature_extractor = nn.Sequential(\n",
    "            nn.Conv2d(1, 4, kernel_size=3, padding=1),\n",
    "            nn.ReLU(),\n",
    "            nn.MaxPool2d(kernel_size=2, stride=2),\n",
    "            nn.Conv2d(4, 16, kernel_size=3, padding=1),\n",
    "            nn.ReLU(),\n",
    "            nn.MaxPool2d(kernel_size=2, stride=2),\n",
    "            nn.Conv2d(16, 64, kernel_size=3, padding=1),\n",
    "            nn.ReLU(),\n",
    "            nn.AdaptiveMaxPool2d((1, 1)),\n",
    "            nn.Flatten(),\n",
    "        )\n",
    "        self.latent_space = nn.Linear(64, latent_size)\n",
    "\n",
    "        self.latent_size = latent_size\n",
    "\n",
    "    def forward(self, images: torch.Tensor) -> torch.Tensor:\n",
    "        features = self.feature_extractor(images)\n",
    "        latent = self.latent_space(features)\n",
    "        # Instead of VAE, AAE use simple encoder\n",
    "        # because it can be trained by samples, not distributions.\n",
    "        return latent"
   ]
  },
  {
   "cell_type": "code",
   "execution_count": null,
   "metadata": {
    "id": "GUFNvefVoCUI"
   },
   "outputs": [],
   "source": [
    "class Decoder(nn.Module):\n",
    "    def __init__(self, image_size: tp.Tuple[int, int] = (28, 28), latent_size: int = 10):\n",
    "        super().__init__()\n",
    "\n",
    "        self.image_size = image_size\n",
    "        self.latent_size = latent_size\n",
    "\n",
    "        self.map_generator = nn.Sequential(\n",
    "            nn.Linear(latent_size, 64 * 49),\n",
    "            Lambda(lambda x: x.view(x.size(0), 64, 7, 7)),\n",
    "        )\n",
    "        self.deconv = nn.Sequential(\n",
    "            self.make_up_layer_(64, 16),  # 7 -> 14\n",
    "            self.make_up_layer_(16, 4),  # 14 -> 28\n",
    "        )\n",
    "\n",
    "        self.output = nn.Sequential(nn.Conv2d(4, 1, 3, padding=1), nn.Sigmoid())\n",
    "\n",
    "    def forward(self, points: torch.Tensor) -> torch.Tensor:\n",
    "        feature_map = self.map_generator(points)\n",
    "        feature_map = self.deconv(feature_map)\n",
    "        return self.output(feature_map)\n",
    "\n",
    "    def make_up_layer_(self, in_channels: int, out_channels: int) -> nn.Module:\n",
    "        return nn.Sequential(\n",
    "            nn.ConvTranspose2d(\n",
    "                in_channels,\n",
    "                out_channels,\n",
    "                kernel_size=3,\n",
    "                stride=2,\n",
    "                padding=1,\n",
    "                output_padding=1,\n",
    "            ),\n",
    "            nn.BatchNorm2d(out_channels),\n",
    "            nn.Dropout(0.1),\n",
    "            nn.LeakyReLU(0.2),\n",
    "        )"
   ]
  },
  {
   "cell_type": "code",
   "execution_count": null,
   "metadata": {
    "id": "IA6VwjqUoCUI"
   },
   "outputs": [],
   "source": [
    "class AE(nn.Module):\n",
    "    def __init__(self, image_size: tp.Tuple[int, int] = (28, 28), latent_size: int = 4):\n",
    "        super().__init__()\n",
    "\n",
    "        self.encoder = Encoder(latent_size)\n",
    "        self.decoder = Decoder(image_size, latent_size)\n",
    "\n",
    "    def forward(self, images: torch.Tensor) -> tp.Dict[str, torch.Tensor]:\n",
    "        latent = self.encoder(images)\n",
    "        x_ = self.decoder(latent)\n",
    "\n",
    "        return {\"decoder_result\": x_, \"latent\": latent}"
   ]
  },
  {
   "cell_type": "code",
   "execution_count": null,
   "metadata": {
    "id": "wBQltexPoCUI"
   },
   "outputs": [],
   "source": [
    "autoencoder = AE()\n",
    "discriminator = Disciriminator_v3()\n",
    "model = {\"autoencoder\": autoencoder, \"discriminator\": discriminator}\n",
    "optimizer = {\n",
    "    \"autoencoder\": RAdam(autoencoder.parameters(), lr=1e-3),\n",
    "    \"discriminator\": RAdam(discriminator.parameters(), lr=1e-4),\n",
    "}\n",
    "criterion = nn.BCELoss()"
   ]
  },
  {
   "cell_type": "code",
   "execution_count": null,
   "metadata": {
    "id": "7Jfa-fxGoCUI"
   },
   "outputs": [],
   "source": [
    "callbacks = [LogFigureCallback()]"
   ]
  },
  {
   "cell_type": "code",
   "execution_count": null,
   "metadata": {
    "id": "f9p40vppoCUJ"
   },
   "outputs": [],
   "source": [
    "class AAERunner(dl.Runner):\n",
    "    def _zero_grad(self):\n",
    "        for optimizer in self.optimizer.values():\n",
    "            optimizer.zero_grad()\n",
    "\n",
    "    def handle_batch(self, batch: tp.Dict[str, torch.Tensor]):\n",
    "        real_images = batch[\"image\"]\n",
    "        batch_metrics = {}\n",
    "        latent_size = self.model[\"discriminator\"].latent_size\n",
    "        batch_size = real_images.size(0)\n",
    "\n",
    "        output = self.model[\"autoencoder\"](real_images)\n",
    "        fake_latent = output[\"latent\"]\n",
    "        decoded_images = output[\"decoder_result\"]\n",
    "\n",
    "        self.output = {\"generated_images\": decoded_images}\n",
    "        normal_latent = torch.randn(fake_latent.size()).to(self.device)\n",
    "\n",
    "        loss_ae = self.criterion(\n",
    "            decoded_images.reshape(batch_size, -1), real_images.reshape(batch_size, -1)\n",
    "        )\n",
    "\n",
    "        concat_latent = torch.cat([normal_latent, fake_latent]).detach()\n",
    "        target = torch.cat([torch.ones(batch_size), torch.zeros(batch_size)]).to(self.device)\n",
    "        pred = self.model[\"discriminator\"](concat_latent)\n",
    "        batch_metrics[\"loss_discriminator\"] = self.criterion(pred.reshape(-1), target)\n",
    "\n",
    "        fake_pred = self.model[\"discriminator\"](fake_latent)\n",
    "        fake_target = torch.ones(batch_size).to(self.device)\n",
    "        loss_fake_latent = self.criterion(fake_pred.reshape(-1), fake_target)\n",
    "\n",
    "        batch_metrics[\"loss_autoencoder\"] = loss_ae + loss_fake_latent\n",
    "\n",
    "        if self.is_train_loader:\n",
    "            optimizer[\"discriminator\"].zero_grad()\n",
    "            batch_metrics[\"loss_discriminator\"].backward(retain_graph=True)\n",
    "            optimizer[\"discriminator\"].step()\n",
    "\n",
    "            optimizer[\"autoencoder\"].zero_grad()\n",
    "            batch_metrics[\"loss_autoencoder\"].backward()\n",
    "            optimizer[\"autoencoder\"].step()\n",
    "\n",
    "        self.batch_metrics.update(**batch_metrics)\n",
    "\n",
    "\n",
    "runner = AAERunner()"
   ]
  },
  {
   "cell_type": "code",
   "execution_count": null,
   "metadata": {
    "id": "uNb7eTqwoCUJ"
   },
   "outputs": [],
   "source": [
    "logdir = Path(\"logs\") / datetime.now().strftime(\"%Y%m%d-%H%M%S\")"
   ]
  },
  {
   "cell_type": "code",
   "execution_count": null,
   "metadata": {
    "colab": {
     "background_save": true
    },
    "id": "yryrE53voCUJ"
   },
   "outputs": [],
   "source": [
    "runner.train(\n",
    "    model=model,\n",
    "    optimizer=optimizer,\n",
    "    criterion=criterion,\n",
    "    loaders=loaders,\n",
    "    callbacks=callbacks,\n",
    "    num_epochs=1000,\n",
    "    verbose=True,\n",
    "    logdir=logdir,\n",
    ")"
   ]
  },
  {
   "cell_type": "code",
   "execution_count": null,
   "metadata": {
    "colab": {
     "background_save": true
    },
    "id": "jl9Oz9M_gRF7"
   },
   "outputs": [],
   "source": [
    "%reload_ext tensorboard\n",
    "%tensorboard --logdir logs"
   ]
  },
  {
   "cell_type": "markdown",
   "metadata": {
    "colab": {
     "background_save": true
    },
    "id": "mDBtBlHnrpWn"
   },
   "source": [
    "**Cridentials**\n",
    "\n",
    "Notebook origin is [Catalyst DL course](https://github.com/catalyst-team/dl-course)"
   ]
  }
 ],
 "metadata": {
  "accelerator": "GPU",
  "colab": {
   "collapsed_sections": [],
   "name": "gans",
   "provenance": []
  },
  "kernelspec": {
   "display_name": "Python [conda env:ml-mipt]",
   "language": "python",
   "name": "conda-env-ml-mipt-py"
  },
  "language_info": {
   "codemirror_mode": {
    "name": "ipython",
    "version": 3
   },
   "file_extension": ".py",
   "mimetype": "text/x-python",
   "name": "python",
   "nbconvert_exporter": "python",
   "pygments_lexer": "ipython3",
   "version": "3.8.8"
  },
  "toc": {
   "base_numbering": 1,
   "nav_menu": {},
   "number_sections": true,
   "sideBar": true,
   "skip_h1_title": false,
   "title_cell": "Table of Contents",
   "title_sidebar": "Contents",
   "toc_cell": false,
   "toc_position": {},
   "toc_section_display": true,
   "toc_window_display": true
  }
 },
 "nbformat": 4,
 "nbformat_minor": 1
}
