{
 "cells": [
  {
   "cell_type": "markdown",
   "metadata": {
    "ExecuteTime": {
     "end_time": "2021-12-06T21:42:20.013414Z",
     "start_time": "2021-12-06T21:42:20.006177Z"
    }
   },
   "source": [
    "# MSAI Computer Vision course\n",
    "\n",
    "# Homework 1: CIFAR classification\n",
    "\n",
    "Revise second seminar and use it to train \n",
    "\n",
    "Your task is to combine the aforementioned approaches and reach the performance baseline of at least **91%** validation set accuracy.\n",
    "You may use any augmentations and architecture tricks that you consider necessary.\n",
    "\n",
    "You can't use ImageNet-pretrained models from **torchvision** library for fine-tuning on CIFAR10.\n",
    "\n",
    "Task solution should consist of two parts:\n",
    "- model checkpoint with the highest validation accuracy you could achieve\n",
    "- a script **run_checkpoint.py**, which loads the checkpoint state dict to model class, loads CIFAR10 dataset and runs checkpoint validation on this dataset "
   ]
  },
  {
   "cell_type": "markdown",
   "metadata": {},
   "source": [
    "## Load dataset and create DataLoaders\n",
    "\n",
    "Don't forget to use augmentations. The best choice is [Albumentations](https://albumentations.ai/)"
   ]
  },
  {
   "cell_type": "code",
   "execution_count": null,
   "metadata": {},
   "outputs": [],
   "source": [
    "# YOUR CODE HERE"
   ]
  },
  {
   "cell_type": "markdown",
   "metadata": {},
   "source": [
    "## Define a network\n",
    "\n",
    "Use ideas from seminar or sample non-pretrained net from `torchvision`"
   ]
  },
  {
   "cell_type": "code",
   "execution_count": null,
   "metadata": {},
   "outputs": [],
   "source": [
    "# YOUR CODE HERE"
   ]
  },
  {
   "cell_type": "markdown",
   "metadata": {},
   "source": [
    "## Train it\n",
    "\n",
    "You could use `catalyst` as well as handwritten training loop"
   ]
  },
  {
   "cell_type": "code",
   "execution_count": null,
   "metadata": {},
   "outputs": [],
   "source": [
    "# YOUR CODE HERE"
   ]
  }
 ],
 "metadata": {
  "kernelspec": {
   "display_name": "Python [conda env:computer-vision]",
   "language": "python",
   "name": "conda-env-computer-vision-py"
  },
  "language_info": {
   "codemirror_mode": {
    "name": "ipython",
    "version": 3
   },
   "file_extension": ".py",
   "mimetype": "text/x-python",
   "name": "python",
   "nbconvert_exporter": "python",
   "pygments_lexer": "ipython3",
   "version": "3.9.7"
  },
  "toc": {
   "base_numbering": 1,
   "nav_menu": {},
   "number_sections": true,
   "sideBar": true,
   "skip_h1_title": true,
   "title_cell": "Table of Contents",
   "title_sidebar": "Contents",
   "toc_cell": false,
   "toc_position": {},
   "toc_section_display": true,
   "toc_window_display": true
  }
 },
 "nbformat": 4,
 "nbformat_minor": 4
}
